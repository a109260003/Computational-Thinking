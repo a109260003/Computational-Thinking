{
  "nbformat": 4,
  "nbformat_minor": 0,
  "metadata": {
    "colab": {
      "name": "加分題week13.ipynb",
      "provenance": [],
      "authorship_tag": "ABX9TyNCtwajG655z3GvuD7oKMt+",
      "include_colab_link": true
    },
    "kernelspec": {
      "name": "python3",
      "display_name": "Python 3"
    }
  },
  "cells": [
    {
      "cell_type": "markdown",
      "metadata": {
        "id": "view-in-github",
        "colab_type": "text"
      },
      "source": [
        "<a href=\"https://colab.research.google.com/github/a109260003/Computational-Thinking/blob/master/%E5%8A%A0%E5%88%86%E9%A1%8Cweek13.ipynb\" target=\"_parent\"><img src=\"https://colab.research.google.com/assets/colab-badge.svg\" alt=\"Open In Colab\"/></a>"
      ]
    },
    {
      "cell_type": "code",
      "metadata": {
        "colab": {
          "base_uri": "https://localhost:8080/"
        },
        "id": "AQSubsU9y8Ex",
        "outputId": "2591e413-85a3-4352-e411-870f4d616986"
      },
      "source": [
        "# 給數字串列,將數字串列中的元素加總。\r\n",
        "## 數字串列的初值、終值、遞增值\r\n",
        "start = int(input('請輸入加總開始值?'))\r\n",
        "end = int(input('請輸入加總終止值?'))\r\n",
        "step = int(input('請輸入遞增減值?'))\r\n",
        "\r\n",
        "## 用for迴圈做加總 + range()\r\n",
        "sum = 0 #初始條件\r\n",
        "for i in range(start, end, step): #判斷條件\r\n",
        "  sum = sum + i #更新條件\r\n",
        "print('i為i時,累加結果為', sum)"
      ],
      "execution_count": 7,
      "outputs": [
        {
          "output_type": "stream",
          "text": [
            "請輸入加總開始值?2\n",
            "請輸入加總終止值?15\n",
            "請輸入遞增減值?3\n",
            "i為i時,累加結果為 40\n"
          ],
          "name": "stdout"
        }
      ]
    }
  ]
}