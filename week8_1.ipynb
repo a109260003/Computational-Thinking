{
  "nbformat": 4,
  "nbformat_minor": 0,
  "metadata": {
    "colab": {
      "name": "week8.1.ipynb",
      "provenance": [],
      "authorship_tag": "ABX9TyNCNdwRJJo7z1rxgWYeaGJZ",
      "include_colab_link": true
    },
    "kernelspec": {
      "name": "python3",
      "display_name": "Python 3"
    }
  },
  "cells": [
    {
      "cell_type": "markdown",
      "metadata": {
        "id": "view-in-github",
        "colab_type": "text"
      },
      "source": [
        "<a href=\"https://colab.research.google.com/github/a109260003/Computational-Thinking/blob/master/week8_1.ipynb\" target=\"_parent\"><img src=\"https://colab.research.google.com/assets/colab-badge.svg\" alt=\"Open In Colab\"/></a>"
      ]
    },
    {
      "cell_type": "code",
      "metadata": {
        "colab": {
          "base_uri": "https://localhost:8080/"
        },
        "id": "Uu58f8u7ogLX",
        "outputId": "ea742bf7-92ae-4317-a2c8-17921fb9a176"
      },
      "source": [
        "cloth=int(input('請輸入上衣數量'))\n",
        "trousers=int(input('請輸入褲子數量'))\n",
        "vest=int(input('請輸入背心數量'))\n",
        "\n",
        "\n",
        "total=cloth*300+trousers*350+vest*400\n",
        "\n",
        "print('訂購服裝的總金額為',total)"
      ],
      "execution_count": 1,
      "outputs": [
        {
          "output_type": "stream",
          "text": [
            "請輸入上衣數量25\n",
            "請輸入褲子數量20\n",
            "請輸入背心數量10\n",
            "訂購服裝的總金額為 18500\n"
          ],
          "name": "stdout"
        }
      ]
    },
    {
      "cell_type": "code",
      "metadata": {
        "colab": {
          "base_uri": "https://localhost:8080/"
        },
        "id": "ggjmOwYlon0n",
        "outputId": "a337069b-5119-4743-8a63-1596ce07ac03"
      },
      "source": [
        "cans =int(input('請輸入購買飲料的罐數?'))\n",
        "\n",
        "total=(cans//12)*200+(cans%12)*20\n",
        "\n",
        "print('需花費',total)"
      ],
      "execution_count": 2,
      "outputs": [
        {
          "output_type": "stream",
          "text": [
            "請輸入購買飲料的罐數?20\n",
            "需花費 360\n"
          ],
          "name": "stdout"
        }
      ]
    },
    {
      "cell_type": "code",
      "metadata": {
        "colab": {
          "base_uri": "https://localhost:8080/"
        },
        "id": "2qH1WkgOovBT",
        "outputId": "2e18de4d-b5d9-4610-abb2-f5ff4489faf8"
      },
      "source": [
        "fir=int(input('請輸入第一次期中考成績'))\n",
        "sec=int(input('請輸入第二次期中考成績'))\n",
        "final=int(input('請輸入期末考成績'))\n",
        "\n",
        "sum=fir+sec+final\n",
        "avg=sum/3\n",
        "\n",
        "print('總分為',sum,'平均為',avg)"
      ],
      "execution_count": 3,
      "outputs": [
        {
          "output_type": "stream",
          "text": [
            "請輸入第一次期中考成績65\n",
            "請輸入第二次期中考成績55\n",
            "請輸入期末考成績70\n",
            "總分為 190 平均為 63.333333333333336\n"
          ],
          "name": "stdout"
        }
      ]
    }
  ]
}