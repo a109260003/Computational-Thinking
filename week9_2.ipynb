{
  "nbformat": 4,
  "nbformat_minor": 0,
  "metadata": {
    "colab": {
      "name": "week9-2.ipynb",
      "provenance": [],
      "authorship_tag": "ABX9TyMIjZwqpqUsUEu3GMyHa0AJ",
      "include_colab_link": true
    },
    "kernelspec": {
      "name": "python3",
      "display_name": "Python 3"
    }
  },
  "cells": [
    {
      "cell_type": "markdown",
      "metadata": {
        "id": "view-in-github",
        "colab_type": "text"
      },
      "source": [
        "<a href=\"https://colab.research.google.com/github/a109260003/Computational-Thinking/blob/master/week9_2.ipynb\" target=\"_parent\"><img src=\"https://colab.research.google.com/assets/colab-badge.svg\" alt=\"Open In Colab\"/></a>"
      ]
    },
    {
      "cell_type": "code",
      "metadata": {
        "id": "wLzLvrE2f9dQ",
        "outputId": "8dc60718-ecf7-45c6-a100-ffb30f4ff810",
        "colab": {
          "base_uri": "https://localhost:8080/"
        }
      },
      "source": [
        "x = int(input(\"請輸入上衣的數量\"))\n",
        "y = int(input(\"請輸入褲子的數量\"))\n",
        "z = int(input(\"請輸入背心的數量\"))\n",
        "\n",
        "Total=300*x+350*y+400*z\n",
        "print(\"訂購服裝的總金額為\", Total)\n",
        "\n"
      ],
      "execution_count": 3,
      "outputs": [
        {
          "output_type": "stream",
          "text": [
            "請輸入上衣的數量45\n",
            "請輸入褲子的數量50\n",
            "請輸入背心的數量25\n",
            "訂購服裝的總金額為 41000\n"
          ],
          "name": "stdout"
        }
      ]
    },
    {
      "cell_type": "code",
      "metadata": {
        "id": "bgoktA3sgzcp",
        "outputId": "99cecf65-3940-4f48-8500-3905bd4003c6",
        "colab": {
          "base_uri": "https://localhost:8080/"
        }
      },
      "source": [
        "Cans = int(input(\"請輸入購買的飲料罐數?\"))\n",
        "Total = (Cans//12)*200 + (Cans%12)*20\n",
        "print (\"需花費\",Total)"
      ],
      "execution_count": 1,
      "outputs": [
        {
          "output_type": "stream",
          "text": [
            "請輸入購買的飲料罐數?25\n",
            "需花費 420\n"
          ],
          "name": "stdout"
        }
      ]
    },
    {
      "cell_type": "code",
      "metadata": {
        "id": "qXw_mlpwh5wA",
        "outputId": "5eae8b58-e74f-4c45-9823-6fd1ec8fcfc8",
        "colab": {
          "base_uri": "https://localhost:8080/"
        }
      },
      "source": [
        "first = int(input(\"請輸入第一次期中考成績? \"))\n",
        "second = int(input(\"請輸入第二次期中考成績? \"))\n",
        "final = int(input(\"請輸入期末考成績? \"))\n",
        "total = first + second + final\n",
        "average = total / 3\n",
        "print(\"總分為\", total, \"平均為\", average)"
      ],
      "execution_count": 2,
      "outputs": [
        {
          "output_type": "stream",
          "text": [
            "請輸入第一次期中考成績? 80\n",
            "請輸入第二次期中考成績? 65\n",
            "請輸入期末考成績? 80\n",
            "總分為 225 平均為 75.0\n"
          ],
          "name": "stdout"
        }
      ]
    }
  ]
}