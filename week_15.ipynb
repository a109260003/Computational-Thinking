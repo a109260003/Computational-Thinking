{
  "nbformat": 4,
  "nbformat_minor": 0,
  "metadata": {
    "colab": {
      "name": "week 15.ipynb",
      "provenance": [],
      "authorship_tag": "ABX9TyNw+rJuMKy1r+0YRTxkn0nR",
      "include_colab_link": true
    },
    "kernelspec": {
      "name": "python3",
      "display_name": "Python 3"
    }
  },
  "cells": [
    {
      "cell_type": "markdown",
      "metadata": {
        "id": "view-in-github",
        "colab_type": "text"
      },
      "source": [
        "<a href=\"https://colab.research.google.com/github/a109260003/Computational-Thinking/blob/master/week_15.ipynb\" target=\"_parent\"><img src=\"https://colab.research.google.com/assets/colab-badge.svg\" alt=\"Open In Colab\"/></a>"
      ]
    },
    {
      "cell_type": "code",
      "metadata": {
        "colab": {
          "base_uri": "https://localhost:8080/"
        },
        "id": "_fNO4hFopa8i",
        "outputId": "0dc15786-3655-4ba7-d6a2-3e9ec9f17f6c"
      },
      "source": [
        "id_last_digit = input(\"請輸入您身分證字號的尾數:\")\r\n",
        "ans = int(id_last_digit) % 2 == 1/2\r\n",
        "print(\"身份證尾數除以2的餘數是否為1:\", ans)"
      ],
      "execution_count": 2,
      "outputs": [
        {
          "output_type": "stream",
          "text": [
            "請輸入您身分證字號的尾數:1\n",
            "身份證尾數除以2的餘數是否為1: False\n"
          ],
          "name": "stdout"
        }
      ]
    },
    {
      "cell_type": "code",
      "metadata": {
        "colab": {
          "base_uri": "https://localhost:8080/"
        },
        "id": "YJz0mcdBzhx-",
        "outputId": "b12015a7-23e9-404c-ae91-3ade03af228e"
      },
      "source": [
        "num_a=int(input(\"輸入第一個數字?\"))\r\n",
        "num_b=int(input(\"輸入第二個數字?\"))\r\n",
        "if num_a<0:\r\n",
        "  print(\"第一個是負數\")\r\n",
        "if num_b<0:\r\n",
        "  print(\"第二個也是負數\")\r\n",
        "print(\"比較完成\")"
      ],
      "execution_count": 10,
      "outputs": [
        {
          "output_type": "stream",
          "text": [
            "輸入第一個數字?-5\n",
            "輸入第二個數字?13\n",
            "第一個是負數\n",
            "比較完成\n"
          ],
          "name": "stdout"
        }
      ]
    }
  ]
}