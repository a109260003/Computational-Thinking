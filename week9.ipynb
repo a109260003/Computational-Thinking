{
  "nbformat": 4,
  "nbformat_minor": 0,
  "metadata": {
    "colab": {
      "name": "week9.ipynb",
      "provenance": [],
      "authorship_tag": "ABX9TyP+o1U8S4lpcGc0n9ry1c2k",
      "include_colab_link": true
    },
    "kernelspec": {
      "name": "python3",
      "display_name": "Python 3"
    }
  },
  "cells": [
    {
      "cell_type": "markdown",
      "metadata": {
        "id": "view-in-github",
        "colab_type": "text"
      },
      "source": [
        "<a href=\"https://colab.research.google.com/github/a109260003/Computational-Thinking/blob/master/week9.ipynb\" target=\"_parent\"><img src=\"https://colab.research.google.com/assets/colab-badge.svg\" alt=\"Open In Colab\"/></a>"
      ]
    },
    {
      "cell_type": "code",
      "metadata": {
        "id": "jOlxhsCkZVwf",
        "outputId": "bc12b6d1-905a-49dd-a154-7d8de2ae4398",
        "colab": {
          "base_uri": "https://localhost:8080/"
        }
      },
      "source": [
        "# 變數賦值\n",
        "x = 2\n",
        "y = 5\n",
        "## 等號的左邊有什麼規定\n",
        "## 等號的右邊有什麼規定\n",
        "## 等號可以做什麼\n",
        "\n",
        "# 數字資料做運算\n",
        "## 加減乘除 商數餘數次方\n",
        "## 運算順序\n",
        "print(x+y)\n",
        "print(x-y)\n",
        "print(x*y)\n",
        "print(x/y)\n",
        "print(x//y)\n",
        "print(x%y)\n",
        "print(x**y)"
      ],
      "execution_count": 1,
      "outputs": [
        {
          "output_type": "stream",
          "text": [
            "7\n",
            "-3\n",
            "10\n",
            "0.4\n",
            "0\n",
            "2\n",
            "32\n"
          ],
          "name": "stdout"
        }
      ]
    },
    {
      "cell_type": "code",
      "metadata": {
        "id": "bcz-UP0cb4aR",
        "outputId": "648cf7df-a737-4cfb-ec8e-1921d6ff7dd4",
        "colab": {
          "base_uri": "https://localhost:8080/",
          "height": 52
        }
      },
      "source": [
        "#標準輸出輸入\n",
        "## input()函數\n",
        "## print()函數\n",
        "input()"
      ],
      "execution_count": 2,
      "outputs": [
        {
          "output_type": "stream",
          "text": [
            "5\n"
          ],
          "name": "stdout"
        },
        {
          "output_type": "execute_result",
          "data": {
            "application/vnd.google.colaboratory.intrinsic+json": {
              "type": "string"
            },
            "text/plain": [
              "'5'"
            ]
          },
          "metadata": {
            "tags": []
          },
          "execution_count": 2
        }
      ]
    },
    {
      "cell_type": "code",
      "metadata": {
        "id": "G7dZmp_Xcdtd",
        "outputId": "910a6105-0ce9-4dbe-f2c2-a08b25939f4c",
        "colab": {
          "base_uri": "https://localhost:8080/",
          "height": 52
        }
      },
      "source": [
        "input('請輸入數字')"
      ],
      "execution_count": 3,
      "outputs": [
        {
          "output_type": "stream",
          "text": [
            "請輸入數字25\n"
          ],
          "name": "stdout"
        },
        {
          "output_type": "execute_result",
          "data": {
            "application/vnd.google.colaboratory.intrinsic+json": {
              "type": "string"
            },
            "text/plain": [
              "'25'"
            ]
          },
          "metadata": {
            "tags": []
          },
          "execution_count": 3
        }
      ]
    },
    {
      "cell_type": "code",
      "metadata": {
        "id": "NKSl1vX2cn2q",
        "outputId": "2b3ee8ed-4f66-43af-defc-2db9856cebeb",
        "colab": {
          "base_uri": "https://localhost:8080/"
        }
      },
      "source": [
        "x=input(\"請輸入數字\")"
      ],
      "execution_count": 8,
      "outputs": [
        {
          "output_type": "stream",
          "text": [
            "請輸入數字50\n"
          ],
          "name": "stdout"
        }
      ]
    },
    {
      "cell_type": "code",
      "metadata": {
        "id": "RPdseO5ddQlI",
        "outputId": "4be9e3a9-b3d6-428f-a918-296af5a4b330",
        "colab": {
          "base_uri": "https://localhost:8080/",
          "height": 35
        }
      },
      "source": [
        " x"
      ],
      "execution_count": 9,
      "outputs": [
        {
          "output_type": "execute_result",
          "data": {
            "application/vnd.google.colaboratory.intrinsic+json": {
              "type": "string"
            },
            "text/plain": [
              "'50'"
            ]
          },
          "metadata": {
            "tags": []
          },
          "execution_count": 9
        }
      ]
    },
    {
      "cell_type": "code",
      "metadata": {
        "id": "IT9k9C9RdWs8",
        "outputId": "b91e52d3-09ce-4ec6-888b-f6555a6b232a",
        "colab": {
          "base_uri": "https://localhost:8080/"
        }
      },
      "source": [
        "print(x,2,\"python\")"
      ],
      "execution_count": 10,
      "outputs": [
        {
          "output_type": "stream",
          "text": [
            "50 2 python\n"
          ],
          "name": "stdout"
        }
      ]
    }
  ]
}