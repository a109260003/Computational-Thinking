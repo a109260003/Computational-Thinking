{
  "nbformat": 4,
  "nbformat_minor": 0,
  "metadata": {
    "colab": {
      "name": "week11.ipynb",
      "provenance": [],
      "authorship_tag": "ABX9TyNLTTIEnDbvG7JY3467rdh+",
      "include_colab_link": true
    },
    "kernelspec": {
      "name": "python3",
      "display_name": "Python 3"
    }
  },
  "cells": [
    {
      "cell_type": "markdown",
      "metadata": {
        "id": "view-in-github",
        "colab_type": "text"
      },
      "source": [
        "<a href=\"https://colab.research.google.com/github/a109260003/Computational-Thinking/blob/master/week11.ipynb\" target=\"_parent\"><img src=\"https://colab.research.google.com/assets/colab-badge.svg\" alt=\"Open In Colab\"/></a>"
      ]
    },
    {
      "cell_type": "code",
      "metadata": {
        "colab": {
          "base_uri": "https://localhost:8080/"
        },
        "id": "-yTH0OQEZ6Vk",
        "outputId": "d9047695-54e8-44db-9425-922b6fa34a9d"
      },
      "source": [
        "# 商數餘數\n",
        "## Input\n",
        "seat = int(input(\"Enter a seat number? \"))\n",
        "## Process\n",
        "group = (seat - 1) // 5 + 1\n",
        "## Output\n",
        "print(\"Group is\", group)"
      ],
      "execution_count": 3,
      "outputs": [
        {
          "output_type": "stream",
          "text": [
            "Enter a seat number? 23\n",
            "Group is 5\n"
          ],
          "name": "stdout"
        }
      ]
    },
    {
      "cell_type": "code",
      "metadata": {
        "colab": {
          "base_uri": "https://localhost:8080/"
        },
        "id": "CzoAdZEccy7Y",
        "outputId": "9bc84942-25cb-4cd8-cc2b-b8d4915fffac"
      },
      "source": [
        "# 四捨五入 無條件進位\n",
        "## Input\n",
        "seat = int(input(\"Enter a seat number? \"))\n",
        "\n",
        "## Process\n",
        "import math\n",
        "group = math.ceil(seat/5)\n",
        "\n",
        "## Output\n",
        "print(\"Group is\", group)"
      ],
      "execution_count": 4,
      "outputs": [
        {
          "output_type": "stream",
          "text": [
            "Enter a seat number? 23\n",
            "Group is 5\n"
          ],
          "name": "stdout"
        }
      ]
    },
    {
      "cell_type": "code",
      "metadata": {
        "colab": {
          "base_uri": "https://localhost:8080/"
        },
        "id": "i-d3ZUFreOGO",
        "outputId": "89a34f42-7ff7-4409-df2b-fa2aff75395a"
      },
      "source": [
        "number = int(input(\"Enter a number? \"))\n",
        "if number%5 == 0:\n",
        "    print(\"Group is \", number//5)\n",
        "else:\n",
        "    print(\"Group is \", number//5 +1)"
      ],
      "execution_count": 5,
      "outputs": [
        {
          "output_type": "stream",
          "text": [
            "Enter a number? 23\n",
            "Group is  5\n"
          ],
          "name": "stdout"
        }
      ]
    }
  ]
}