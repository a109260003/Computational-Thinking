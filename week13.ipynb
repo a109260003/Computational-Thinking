{
  "nbformat": 4,
  "nbformat_minor": 0,
  "metadata": {
    "colab": {
      "name": "week13.ipynb",
      "provenance": [],
      "authorship_tag": "ABX9TyMBXDaKaLQAaPSLDIZiE7d2",
      "include_colab_link": true
    },
    "kernelspec": {
      "name": "python3",
      "display_name": "Python 3"
    }
  },
  "cells": [
    {
      "cell_type": "markdown",
      "metadata": {
        "id": "view-in-github",
        "colab_type": "text"
      },
      "source": [
        "<a href=\"https://colab.research.google.com/github/a109260003/Computational-Thinking/blob/master/week13.ipynb\" target=\"_parent\"><img src=\"https://colab.research.google.com/assets/colab-badge.svg\" alt=\"Open In Colab\"/></a>"
      ]
    },
    {
      "cell_type": "code",
      "metadata": {
        "colab": {
          "base_uri": "https://localhost:8080/"
        },
        "id": "WENaZgGUgTMa",
        "outputId": "b87a7524-0550-433d-e6c9-a6e40d65733e"
      },
      "source": [
        "#印出5個Hello\r\n",
        "for i in range(0,5,1):\r\n",
        "  print(\"Hello\")"
      ],
      "execution_count": 1,
      "outputs": [
        {
          "output_type": "stream",
          "text": [
            "Hello\n",
            "Hello\n",
            "Hello\n",
            "Hello\n",
            "Hello\n"
          ],
          "name": "stdout"
        }
      ]
    },
    {
      "cell_type": "code",
      "metadata": {
        "colab": {
          "base_uri": "https://localhost:8080/"
        },
        "id": "06clT5jav7nR",
        "outputId": "e4284572-0520-4706-ff9c-df0a9ad83535"
      },
      "source": [
        "# [0,1,2,3,4,5]\r\n",
        "for i in range(0,5,1):\r\n",
        "   print(i)"
      ],
      "execution_count": 4,
      "outputs": [
        {
          "output_type": "stream",
          "text": [
            "0\n",
            "1\n",
            "2\n",
            "3\n",
            "4\n"
          ],
          "name": "stdout"
        }
      ]
    },
    {
      "cell_type": "code",
      "metadata": {
        "colab": {
          "base_uri": "https://localhost:8080/"
        },
        "id": "34rRNzkhv-wV",
        "outputId": "70bbd903-adec-4569-afca-e931f472adf5"
      },
      "source": [
        "#[2,3,4,5]\r\n",
        "for i in range(2,6,1):\r\n",
        "   print(i)"
      ],
      "execution_count": 3,
      "outputs": [
        {
          "output_type": "stream",
          "text": [
            "2\n",
            "3\n",
            "4\n",
            "5\n"
          ],
          "name": "stdout"
        }
      ]
    },
    {
      "cell_type": "code",
      "metadata": {
        "colab": {
          "base_uri": "https://localhost:8080/"
        },
        "id": "th7Pc2DewTHc",
        "outputId": "5a50be5d-bbc0-4ce1-c867-6d933e377221"
      },
      "source": [
        "#[2,4,6,8]\r\n",
        "for i in range(2,10,2):\r\n",
        "    print(i)"
      ],
      "execution_count": 7,
      "outputs": [
        {
          "output_type": "stream",
          "text": [
            "2\n",
            "4\n",
            "6\n",
            "8\n"
          ],
          "name": "stdout"
        }
      ]
    },
    {
      "cell_type": "code",
      "metadata": {
        "colab": {
          "base_uri": "https://localhost:8080/"
        },
        "id": "EGxMAhZpwcLJ",
        "outputId": "c9dc87f1-3d7e-4b5f-d11c-0c91b2c6069e"
      },
      "source": [
        "#[100,97,94,91]\r\n",
        "for i in range(100, 90, -3):\r\n",
        "   print(i)"
      ],
      "execution_count": 6,
      "outputs": [
        {
          "output_type": "stream",
          "text": [
            "100\n",
            "97\n",
            "94\n",
            "91\n"
          ],
          "name": "stdout"
        }
      ]
    },
    {
      "cell_type": "code",
      "metadata": {
        "colab": {
          "base_uri": "https://localhost:8080/"
        },
        "id": "G24ttDdawqBa",
        "outputId": "404482bd-a8df-4fbf-96ca-46a0be33bbfb"
      },
      "source": [
        "# 數字1到10之和。\r\n",
        "## 1+2+3+4+5+6+7+8+9+10=?\r\n",
        "sum = 0 # 起始條件\r\n",
        "for i in range(1, 11, 1): #數字串列[1,2,3,4,5,6,7,8,9,10]\r\n",
        "   sum = sum + i # 加總運算,變更條件\r\n",
        "print(\"Total is\", sum)"
      ],
      "execution_count": 9,
      "outputs": [
        {
          "output_type": "stream",
          "text": [
            "Total is 55\n"
          ],
          "name": "stdout"
        }
      ]
    },
    {
      "cell_type": "code",
      "metadata": {
        "colab": {
          "base_uri": "https://localhost:8080/"
        },
        "id": "dPoE5EYHw7OE",
        "outputId": "a2aed047-1bd0-4ae5-e5f7-a80a74b9be7e"
      },
      "source": [
        "# 2. 數字1到10奇數之和。\r\n",
        "## 1+3+5+7+9 = ?\r\n",
        "sum = 0 # 起始值\r\n",
        "for i in range(1, 11, 2): # 數字串列[1,3,5,7,9]\r\n",
        "   sum = sum + i # 加總運算,變更條件\r\n",
        "print(\"Total is\", sum)"
      ],
      "execution_count": 10,
      "outputs": [
        {
          "output_type": "stream",
          "text": [
            "Total is 25\n"
          ],
          "name": "stdout"
        }
      ]
    },
    {
      "cell_type": "code",
      "metadata": {
        "colab": {
          "base_uri": "https://localhost:8080/"
        },
        "id": "mLik8SRZxMy8",
        "outputId": "72981987-da62-4293-842e-7ff25d6f2444"
      },
      "source": [
        "#2+4+6+8+10=?\r\n",
        "sum=0\r\n",
        "for i in range(2,11,2):\r\n",
        "  sum=sum+i\r\n",
        "print(\"Total is\", sum)"
      ],
      "execution_count": 11,
      "outputs": [
        {
          "output_type": "stream",
          "text": [
            "Total is 30\n"
          ],
          "name": "stdout"
        }
      ]
    },
    {
      "cell_type": "code",
      "metadata": {
        "colab": {
          "base_uri": "https://localhost:8080/"
        },
        "id": "snDIlJusxiDR",
        "outputId": "34e8f357-fb57-4b11-8e9f-ac08e98e09b9"
      },
      "source": [
        "#3到13之間，每隔三個數字之和\r\n",
        "sum=0\r\n",
        "for i in range(3,14,3):\r\n",
        "  sum=sum+i\r\n",
        "print(\"Total is\", sum)"
      ],
      "execution_count": 12,
      "outputs": [
        {
          "output_type": "stream",
          "text": [
            "Total is 30\n"
          ],
          "name": "stdout"
        }
      ]
    }
  ]
}