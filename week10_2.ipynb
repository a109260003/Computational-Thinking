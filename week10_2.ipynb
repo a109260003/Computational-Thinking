{
  "nbformat": 4,
  "nbformat_minor": 0,
  "metadata": {
    "colab": {
      "name": "week10-2.ipynb",
      "provenance": [],
      "authorship_tag": "ABX9TyOcNh7/4tJk6gkhEQp1ajO1",
      "include_colab_link": true
    },
    "kernelspec": {
      "name": "python3",
      "display_name": "Python 3"
    }
  },
  "cells": [
    {
      "cell_type": "markdown",
      "metadata": {
        "id": "view-in-github",
        "colab_type": "text"
      },
      "source": [
        "<a href=\"https://colab.research.google.com/github/a109260003/Computational-Thinking/blob/master/week10_2.ipynb\" target=\"_parent\"><img src=\"https://colab.research.google.com/assets/colab-badge.svg\" alt=\"Open In Colab\"/></a>"
      ]
    },
    {
      "cell_type": "code",
      "metadata": {
        "colab": {
          "base_uri": "https://localhost:8080/"
        },
        "id": "IyT6t2ZQgt0l",
        "outputId": "e672a5e0-ca2d-4620-dd26-dcffe7c983c5"
      },
      "source": [
        "#Input Data\n",
        "time=123\n",
        "\n",
        "#Process\n",
        "hour=time//60#商數\n",
        "minute=time%60#餘數\n",
        "\n",
        "#Output\n",
        "\n",
        "print(time,\"是\",hour,\"小時\",minute,\"分鐘\")"
      ],
      "execution_count": null,
      "outputs": [
        {
          "output_type": "stream",
          "text": [
            "123 是 2 小時 3 分鐘\n"
          ],
          "name": "stdout"
        }
      ]
    },
    {
      "cell_type": "code",
      "metadata": {
        "colab": {
          "base_uri": "https://localhost:8080/"
        },
        "id": "pbYLR0sJiCIo",
        "outputId": "572ef0dc-3386-48ea-ef8a-51c1162de337"
      },
      "source": [
        "##Process\n",
        "\n",
        "hour1=int(time/60)#除法與整數\n",
        "minute1=int((time/60)-hour1)*60\n",
        "import math\n",
        "minute1=round(minute1)\n",
        "\n",
        "print(time,\"是\",hour1,\"小時\",minute1,\"分鐘\")"
      ],
      "execution_count": null,
      "outputs": [
        {
          "output_type": "stream",
          "text": [
            "123 是 2 小時 0 分鐘\n"
          ],
          "name": "stdout"
        }
      ]
    },
    {
      "cell_type": "code",
      "metadata": {
        "colab": {
          "base_uri": "https://localhost:8080/"
        },
        "id": "x-HsYWggdJQV",
        "outputId": "89b87994-1f12-41f5-cd3a-0718d58205f9"
      },
      "source": [
        "# 商數餘數\n",
        "## Input\n",
        "seat = int(input(\"Enter a seat number? \"))\n",
        "## Process\n",
        "group = (seat - 1) // 5 + 1\n",
        "## Output\n",
        "print(\"Group is\", group)"
      ],
      "execution_count": 1,
      "outputs": [
        {
          "output_type": "stream",
          "text": [
            "Enter a seat number? 17\n",
            "Group is 4\n"
          ],
          "name": "stdout"
        }
      ]
    }
  ]
}