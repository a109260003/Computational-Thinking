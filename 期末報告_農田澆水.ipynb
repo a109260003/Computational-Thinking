{
  "nbformat": 4,
  "nbformat_minor": 0,
  "metadata": {
    "colab": {
      "name": "期末報告-農田澆水",
      "provenance": [],
      "authorship_tag": "ABX9TyPGlpZxYJyw+hgwR01yvXVQ",
      "include_colab_link": true
    },
    "kernelspec": {
      "name": "python3",
      "display_name": "Python 3"
    }
  },
  "cells": [
    {
      "cell_type": "markdown",
      "metadata": {
        "id": "view-in-github",
        "colab_type": "text"
      },
      "source": [
        "<a href=\"https://colab.research.google.com/github/a109260003/Computational-Thinking/blob/master/%E6%9C%9F%E6%9C%AB%E5%A0%B1%E5%91%8A_%E8%BE%B2%E7%94%B0%E6%BE%86%E6%B0%B4.ipynb\" target=\"_parent\"><img src=\"https://colab.research.google.com/assets/colab-badge.svg\" alt=\"Open In Colab\"/></a>"
      ]
    },
    {
      "cell_type": "code",
      "metadata": {
        "id": "Tj8lAcwV3dr7"
      },
      "source": [
        "##新手澆水指引\r\n",
        "num_a=int(input(\"輸入澆水數量?\"))\r\n",
        "if num_a>=5:\r\n",
        "  print(\"達成澆水數量，恭喜玩家種植成功\")\r\n",
        "if num_a<5:\r\n",
        "  print(\"玩家未達成規定澆水量，種植失敗\")\r\n",
        "print(\"農田澆水指引結束\")"
      ],
      "execution_count": null,
      "outputs": []
    }
  ]
}