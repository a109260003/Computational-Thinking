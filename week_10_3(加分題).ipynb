{
  "nbformat": 4,
  "nbformat_minor": 0,
  "metadata": {
    "colab": {
      "name": "week 10-3(加分題).ipynb",
      "provenance": [],
      "authorship_tag": "ABX9TyPeWXakXpn0Fxy4Qcq0Qziw",
      "include_colab_link": true
    },
    "kernelspec": {
      "name": "python3",
      "display_name": "Python 3"
    }
  },
  "cells": [
    {
      "cell_type": "markdown",
      "metadata": {
        "id": "view-in-github",
        "colab_type": "text"
      },
      "source": [
        "<a href=\"https://colab.research.google.com/github/a109260003/Computational-Thinking/blob/master/week_10_3(%E5%8A%A0%E5%88%86%E9%A1%8C).ipynb\" target=\"_parent\"><img src=\"https://colab.research.google.com/assets/colab-badge.svg\" alt=\"Open In Colab\"/></a>"
      ]
    },
    {
      "cell_type": "code",
      "metadata": {
        "id": "1rq3p1scdjJg",
        "colab": {
          "base_uri": "https://localhost:8080/"
        },
        "outputId": "0e7df840-e090-4f4d-d6ed-ea13306626d1"
      },
      "source": [
        "name=\"高明倫\"\n",
        "entree=\"dinner\"\n",
        "side_one=\"chicken rice\"\n",
        "side_tow=\"fish meat rice\"\n",
        "dessert_one=\"strawberry cake\"\n",
        "dessert_tow=\"pudding\"\n",
        "dessert_three=\"cookies\"\n",
        "\n",
        "dinner_decisions = f\"\"\"\n",
        "Hi,my name is {name}.\n",
        "I choose {entree} as my main meal !\n",
        "To go with it, I choose {side_one} and {side_tow} as my sides.\n",
        "And the best part, I have {dessert_one} , {dessert_tow} ,and {dessert_three} waiting for\n",
        "me for desert!\n",
        "Let's eat!\n",
        "\"\"\"\n",
        "\n",
        "print(dinner_decisions)"
      ],
      "execution_count": 2,
      "outputs": [
        {
          "output_type": "stream",
          "text": [
            "\n",
            "Hi,my name is 高明倫.\n",
            "I choose dinner as my main meal !\n",
            "To go with it, I choose chicken rice and fish meat rice as my sides.\n",
            "And the best part, I have strawberry cake , pudding ,and cookies waiting for\n",
            "me for desert!\n",
            "Let's eat!\n",
            "\n"
          ],
          "name": "stdout"
        }
      ]
    }
  ]
}