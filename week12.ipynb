{
  "nbformat": 4,
  "nbformat_minor": 0,
  "metadata": {
    "colab": {
      "name": "week12.ipynb",
      "provenance": [],
      "authorship_tag": "ABX9TyNi4oUvRxsnevhShUSll5gh",
      "include_colab_link": true
    },
    "kernelspec": {
      "name": "python3",
      "display_name": "Python 3"
    }
  },
  "cells": [
    {
      "cell_type": "markdown",
      "metadata": {
        "id": "view-in-github",
        "colab_type": "text"
      },
      "source": [
        "<a href=\"https://colab.research.google.com/github/a109260003/Computational-Thinking/blob/master/week12.ipynb\" target=\"_parent\"><img src=\"https://colab.research.google.com/assets/colab-badge.svg\" alt=\"Open In Colab\"/></a>"
      ]
    },
    {
      "cell_type": "code",
      "metadata": {
        "colab": {
          "base_uri": "https://localhost:8080/"
        },
        "id": "GMyH-OEQg797",
        "outputId": "43ee85a6-d8d5-4e3b-a8da-c64ef199b7b7"
      },
      "source": [
        "#串列項目\n",
        "shopping_list=['牛奶','蘋果','雞蛋','青菜','柳橙']\n",
        "print(shopping_list)"
      ],
      "execution_count": 16,
      "outputs": [
        {
          "output_type": "stream",
          "text": [
            "['牛奶', '蘋果', '雞蛋', '青菜', '柳橙']\n"
          ],
          "name": "stdout"
        }
      ]
    },
    {
      "cell_type": "code",
      "metadata": {
        "colab": {
          "base_uri": "https://localhost:8080/"
        },
        "id": "sieCRnjjf16u",
        "outputId": "13fb3e35-53fa-4550-c281-c732934ad5e5"
      },
      "source": [
        "#串列項目\n",
        "list5=['牛奶','蘋果','雞蛋','青菜','柳橙']\n",
        "print(list5)"
      ],
      "execution_count": 10,
      "outputs": [
        {
          "output_type": "stream",
          "text": [
            "['牛奶', '蘋果', '雞蛋', '青菜', '柳橙']\n"
          ],
          "name": "stdout"
        }
      ]
    },
    {
      "cell_type": "code",
      "metadata": {
        "colab": {
          "base_uri": "https://localhost:8080/"
        },
        "id": "skguzpycgQNX",
        "outputId": "4242d21e-329c-4468-ee52-b49df2675480"
      },
      "source": [
        "##索引\n",
        "print(list5[2])"
      ],
      "execution_count": 17,
      "outputs": [
        {
          "output_type": "stream",
          "text": [
            "雞蛋\n"
          ],
          "name": "stdout"
        }
      ]
    },
    {
      "cell_type": "code",
      "metadata": {
        "colab": {
          "base_uri": "https://localhost:8080/"
        },
        "id": "iXt21GKHjhwr",
        "outputId": "30e76e09-9170-4c79-fd8d-3b54484238d0"
      },
      "source": [
        "## 變更\n",
        "list5[1] = '蘋果汁' # 變更第1個項目\n",
        "print(list5)"
      ],
      "execution_count": 33,
      "outputs": [
        {
          "output_type": "stream",
          "text": [
            "['牛奶', '蘋果汁', '柳橙', '青菜', '柳橙']\n"
          ],
          "name": "stdout"
        }
      ]
    },
    {
      "cell_type": "code",
      "metadata": {
        "colab": {
          "base_uri": "https://localhost:8080/"
        },
        "id": "TJiXkXyVjmIZ",
        "outputId": "3a803883-24d2-45ac-f7e0-d33fe35a2dab"
      },
      "source": [
        "## 切片\n",
        "print(list5[0:2]) # 取0,1兩個項目"
      ],
      "execution_count": 46,
      "outputs": [
        {
          "output_type": "stream",
          "text": [
            "['牛奶', '蘋果汁']\n"
          ],
          "name": "stdout"
        }
      ]
    },
    {
      "cell_type": "code",
      "metadata": {
        "id": "WgpJTyL6ioCc"
      },
      "source": [
        "# NBA冠軍賽的六筆資訊\n",
        "season = \"1995-1996\"\n",
        "team = \"Chicago Bulls\"\n",
        "coach = \"Phil Jackson\"\n",
        "records = [72, 10]\n",
        "starting = [\"Ron Harper\", \"Michael Jordan\", \"Scottie Pippen\", \"Dennis Rodman\", \"Luc Longley\"]\n",
        "champion = True"
      ],
      "execution_count": null,
      "outputs": []
    },
    {
      "cell_type": "code",
      "metadata": {
        "colab": {
          "base_uri": "https://localhost:8080/"
        },
        "id": "fnkMspPnlHqx",
        "outputId": "a908149c-c86f-4318-92b9-4b5255683a5a"
      },
      "source": [
        "# 變數best_NBA 賦值串列\n",
        "best_NBA = list((season, team, coach, records, starting, champion))\n",
        "# TypeError: list expected at most 1 arguments, got 6 (要有兩個小括號)\n",
        "print(best_NBA)"
      ],
      "execution_count": 40,
      "outputs": [
        {
          "output_type": "stream",
          "text": [
            "['1995-1996', 'Chicago Bulls', 'Phil Jackson', [72, 10], ['Ron Harper', 'Michael Jordan', 'Scottie Pippen', 'Dennis Rodman', 'Luc Longley'], True]\n"
          ],
          "name": "stdout"
        }
      ]
    },
    {
      "cell_type": "code",
      "metadata": {
        "colab": {
          "base_uri": "https://localhost:8080/"
        },
        "id": "KAKNwz52mAMC",
        "outputId": "41d2e5be-bebf-466f-f5fd-248087ebdc1d"
      },
      "source": [
        "print(type(best_NBA))"
      ],
      "execution_count": 41,
      "outputs": [
        {
          "output_type": "stream",
          "text": [
            "<class 'list'>\n"
          ],
          "name": "stdout"
        }
      ]
    },
    {
      "cell_type": "code",
      "metadata": {
        "colab": {
          "base_uri": "https://localhost:8080/"
        },
        "id": "aKVRyMNllZ93",
        "outputId": "651a8db1-035c-4222-89a3-f097369a9782"
      },
      "source": [
        "# indexing 索引\n",
        "print(best_NBA[4])"
      ],
      "execution_count": 42,
      "outputs": [
        {
          "output_type": "stream",
          "text": [
            "['Ron Harper', 'Michael Jordan', 'Scottie Pippen', 'Dennis Rodman', 'Luc Longley']\n"
          ],
          "name": "stdout"
        }
      ]
    },
    {
      "cell_type": "code",
      "metadata": {
        "colab": {
          "base_uri": "https://localhost:8080/"
        },
        "id": "cHQac9XUlgQs",
        "outputId": "1f3edb46-b316-4f30-bc7c-8e1055cf4c70"
      },
      "source": [
        "# slicing 切片\n",
        "print(best_NBA[0:4])"
      ],
      "execution_count": 44,
      "outputs": [
        {
          "output_type": "stream",
          "text": [
            "['1995-1996', 'Chicago Bulls', 'Phil Jackson', [72, 10]]\n"
          ],
          "name": "stdout"
        }
      ]
    }
  ]
}