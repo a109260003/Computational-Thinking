{
  "nbformat": 4,
  "nbformat_minor": 0,
  "metadata": {
    "colab": {
      "name": "week7.ipynb",
      "provenance": [],
      "authorship_tag": "ABX9TyMxvaDFQywMpwvFWg/y+D7K",
      "include_colab_link": true
    },
    "kernelspec": {
      "name": "python3",
      "display_name": "Python 3"
    }
  },
  "cells": [
    {
      "cell_type": "markdown",
      "metadata": {
        "id": "view-in-github",
        "colab_type": "text"
      },
      "source": [
        "<a href=\"https://colab.research.google.com/github/a109260003/Computational-Thinking/blob/master/week7.ipynb\" target=\"_parent\"><img src=\"https://colab.research.google.com/assets/colab-badge.svg\" alt=\"Open In Colab\"/></a>"
      ]
    },
    {
      "cell_type": "code",
      "metadata": {
        "id": "pcpax_FGzAXP",
        "outputId": "7713d199-7c13-4dd2-c8e9-ff5a44ac0146",
        "colab": {
          "base_uri": "https://localhost:8080/"
        }
      },
      "source": [
        "print((19**2)-(5**2)-(23%5))"
      ],
      "execution_count": 22,
      "outputs": [
        {
          "output_type": "stream",
          "text": [
            "333\n"
          ],
          "name": "stdout"
        }
      ]
    }
  ]
}